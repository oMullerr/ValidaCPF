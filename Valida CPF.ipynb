{
  "nbformat": 4,
  "nbformat_minor": 0,
  "metadata": {
    "kernelspec": {
      "display_name": "Python 3",
      "language": "python",
      "name": "python3"
    },
    "language_info": {
      "codemirror_mode": {
        "name": "ipython",
        "version": 3
      },
      "file_extension": ".py",
      "mimetype": "text/x-python",
      "name": "python",
      "nbconvert_exporter": "python",
      "pygments_lexer": "ipython3",
      "version": "3.7.4"
    },
    "colab": {
      "name": "Exercicio CPF (3).ipynb",
      "provenance": []
    }
  },
  "cells": [
    {
      "cell_type": "code",
      "metadata": {
        "id": "3bayp7V5Jt91"
      },
      "source": [
        "cpf = str(input(\"Digite o seu CPF:\"))\n",
        "x = cpf\n",
        "if len(x)<11:\n",
        "    print(\"CPF INVÁLIDO\")\n",
        "else:\n",
        "    a = int(x[0]) * 10\n",
        "    b = int(x[1]) * 9\n",
        "    c = int(x[2]) * 8\n",
        "    d = int(x[3]) * 7\n",
        "    e = int(x[4]) * 6\n",
        "    f = int(x[5]) * 5\n",
        "    g = int(x[6]) * 4\n",
        "    h = int(x[7]) * 3\n",
        "    i = int(x[8]) * 2\n",
        "    soma = a + b + c + d + e + f + g + h + i\n",
        "\n",
        "    soma = (soma * 10) % 11\n",
        "    if soma == int(x[9]):\n",
        "        a = int(x[0]) * 11\n",
        "        b = int(x[1]) * 10\n",
        "        c = int(x[2]) * 9\n",
        "        d = int(x[3]) * 8\n",
        "        e = int(x[4]) * 7\n",
        "        f = int(x[5]) * 6\n",
        "        g = int(x[6]) * 5\n",
        "        h = int(x[7]) * 4\n",
        "        i = int(x[8]) * 3\n",
        "        j = int(x[9]) * 2\n",
        "        soma = a + b + c + d + e + f + g + h + i + j\n",
        "        soma = (soma*10) % 11\n",
        "        if soma == int(x[10]):\n",
        "            print(f\"o CPF {cpf} é válido\")\n",
        "\n",
        "        elif soma == 10 and x[10] == 0:\n",
        "            print(f\"o CPF {cpf} é válido\")\n",
        "        else:\n",
        "            print(f\"o CPF {cpf} não é válido\")\n",
        "\n",
        "    elif soma==10 and x[9]==0:\n",
        "        if soma == x[9]:\n",
        "            a = int(x[0]) * 11\n",
        "            b = int(x[1]) * 10\n",
        "            c = int(x[2]) * 9\n",
        "            d = int(x[3]) * 8\n",
        "            e = int(x[4]) * 7\n",
        "            f = int(x[5]) * 6\n",
        "            g = int(x[6]) * 5\n",
        "            h = int(x[7]) * 4\n",
        "            i = int(x[8]) * 3\n",
        "            j = int(x[9]) * 2\n",
        "            soma = a + b + c + d + e + f + g + h + i + j\n",
        "            soma = (soma * 10) % 11\n",
        "            if soma == x[10]:\n",
        "                print(f\"o CPF {cpf} é válido\")\n",
        "\n",
        "            elif soma == 10 and x[10] == 0:\n",
        "                print(f\"o CPF {cpf} é válido\")\n",
        "            else:\n",
        "                print(f\"o CPF {cpf} não é válido\")\n",
        "    else:\n",
        "        print(f\"o CPF {cpf} não é válido\")"
      ],
      "execution_count": null,
      "outputs": []
    },
    {
      "cell_type": "code",
      "metadata": {
        "id": "YQkkGH6iJt93"
      },
      "source": [
        ""
      ],
      "execution_count": null,
      "outputs": []
    }
  ]
}